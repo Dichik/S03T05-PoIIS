{
 "cells": [
  {
   "cell_type": "markdown",
   "metadata": {},
   "source": [
    "# Assignment 4. Monte-Carlo Tree Search (MCTS)"
   ]
  },
  {
   "cell_type": "markdown",
   "metadata": {},
   "source": [
    "The large branching factor as well as incomplete knowledge of the board state limits tree search. This poses a problem for both runtime and memory limits. To handle the large branching factor, the Monte Carlo Tree Search method can be used to reduce the branches visited while still making close to optimal decisions at each step of the game. [1] \n",
    "\n",
    "The focus of MCTS is on the analysis of the most promising moves, expanding the search tree based on random sampling of the search space\n",
    "\n",
    "\n",
    "\n",
    "Each round of Monte Carlo tree search consists of four steps:\n",
    "1. Selection \n",
    "2. Expansion\n",
    "3. Simulation\n",
    "4. Backpropagation\n",
    "\n",
    "zero-sum game – means the two parties involved have the opposite goal, in other words: in any terminal state of the game the sum of gains for all players equals zero. Sometimes such a game is also called strictly competitive.\n",
    "\n",
    "One can easily verify that Go, Chess or Tic-Tac-Toe are finite two person zero-sum sequential games. \n",
    "The number of node’s children is called a branching factor.\n",
    "We also distinguish terminal nodes of the game tree – nodes with no children, from where game cannot be continued anymore.\n",
    "\n",
    "The biggest weakness of minimax algorithm is the necessity to expand the whole game tree. For games with high branching factor (like Go or Chess) it leads to enormous game trees and so certain failure.\n",
    "\n",
    "Is there a remedy for this?\n",
    "\n",
    "There is a few. One way to go is to expand our game tree only up to certain threshold depth d. [3]\n",
    "\n",
    "Monte Carlo Tree Search simulates the games many times and tries to predict the most promising move based on the simulation results."
   ]
  },
  {
   "cell_type": "markdown",
   "metadata": {},
   "source": [
    "The main concept of monte carlo tree search is a search. Search is a set of traversals down the game tree. Single traversal is a path from a root node (current game state) to a node that is not fully expanded. Node being not-fully expanded means at least one of its children is unvisited, not explored. Once not fully expanded node is encountered, one of its unvisited children is chosen to become a root node for a single playout/simulation. The result of the simulation is then propagated back up to the current tree root updating game tree nodes statistics. Once the search (constrained by time or computational power) terminates, the move is chosen based on the gathered statistics.\n",
    "\n",
    "Let’s try to ask crucial questions regarding the simplified description above to slowly understand all the pieces:\n",
    "\n",
    "- what are expanded or not fully unexpanded game tree nodes?\n",
    "- what it means ‘to traverse down‘ during search? How is the next (child) node selected?\n",
    "- what is a simulation?\n",
    "- what is the backpropagation?\n",
    "- what statistics are back-propagated and updated in expanded game tree nodes ?\n",
    "- How is the final move even chosen ?"
   ]
  },
  {
   "cell_type": "code",
   "execution_count": 2,
   "metadata": {},
   "outputs": [
    {
     "name": "stdout",
     "output_type": "stream",
     "text": [
      "Hello, World!\n"
     ]
    }
   ],
   "source": [
    "print('Hello, World!')"
   ]
  },
  {
   "cell_type": "code",
   "execution_count": null,
   "metadata": {},
   "outputs": [],
   "source": [
    "def monte_carlo_tree_search(root): \n",
    "    "
   ]
  },
  {
   "cell_type": "markdown",
   "metadata": {},
   "source": [
    "### Advantages and disadvantages"
   ]
  },
  {
   "cell_type": "markdown",
   "metadata": {},
   "source": [
    "### Improvements"
   ]
  },
  {
   "cell_type": "markdown",
   "metadata": {},
   "source": [
    "### References\n",
    "\n",
    "[1] Monte Carlo Tree Search Magic: The Gathering AI (Joe Agajanian, Taylor Brent)\n",
    "\n",
    "[3] https://int8.io/monte-carlo-tree-search-beginners-guide/\n"
   ]
  }
 ],
 "metadata": {
  "kernelspec": {
   "display_name": "Python 3.9.12 ('base')",
   "language": "python",
   "name": "python3"
  },
  "language_info": {
   "codemirror_mode": {
    "name": "ipython",
    "version": 3
   },
   "file_extension": ".py",
   "mimetype": "text/x-python",
   "name": "python",
   "nbconvert_exporter": "python",
   "pygments_lexer": "ipython3",
   "version": "3.9.12 (main, Apr  5 2022, 01:53:17) \n[Clang 12.0.0 ]"
  },
  "orig_nbformat": 4,
  "vscode": {
   "interpreter": {
    "hash": "8b1719dcdc2945bfab9e09217034c1b23afd6cd60ca490fa35774ed6442f2541"
   }
  }
 },
 "nbformat": 4,
 "nbformat_minor": 2
}
